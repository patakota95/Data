{
 "cells": [
  {
   "cell_type": "code",
   "execution_count": 1,
   "metadata": {},
   "outputs": [
    {
     "name": "stdout",
     "output_type": "stream",
     "text": [
      "{'students': ['Alice', 'Anna', 'Arlean', 'Betty', 'Bertha', 'Beatrice', 'Candice', 'Carol', 'Christa', 'Duncan', 'Derry', 'Dealy', 'Edward', 'Earl', 'Edwin'], 'courses': ['Physics', 'Physics', 'Physics', 'Math', 'Math', 'Math', 'Chem', 'Chem', 'Chem', 'Bio', 'Bio', 'Bio', 'Stat', 'Stat', 'Stat'], 'phoneX': [842, 611, 624, 112, 383, 812, 842, 611, 624, 112, 383, 812, 112, 383, 812], 'percent': [95, 85, 70, 75, 82, 90, 87, 61, 72, 55, 98, 86, 56, 78, 86], 'ID': ['121', '122', '123', '124', '125', '126', '127', '128', '129', '130', '131', '132', '133', '134', '135']}\n"
     ]
    }
   ],
   "source": [
    "dict = {\"students\": ['Alice','Anna','Arlean','Betty','Bertha','Beatrice','Candice','Carol','Christa','Duncan','Derry','Dealy','Edward','Earl','Edwin'], \n",
    "         \"courses\": ['Physics','Physics','Physics', 'Math','Math','Math','Chem', 'Chem','Chem','Bio','Bio','Bio','Stat','Stat','Stat'],\n",
    "         \"percent\": [95,85,70,75,82,90,87,61,72,55,98,86, 56,78,86],\n",
    "         \"ID\":  ['121', '122','123','124','125','126','127', '128','129','130','131','132','133', '134','135'],\n",
    "         \"phoneX\": [842, 611, 624, 112, 383, 812, 842, 611, 624, 112, 383, 812,112, 383, 812]}\n",
    "print(dict) # print out the dictionary "
   ]
  },
  {
   "cell_type": "code",
   "execution_count": null,
   "metadata": {},
   "outputs": [],
   "source": []
  }
 ],
 "metadata": {
  "interpreter": {
   "hash": "949777d72b0d2535278d3dc13498b2535136f6dfe0678499012e853ee9abcab1"
  },
  "kernelspec": {
   "display_name": "Python 2.7.18 64-bit",
   "language": "python",
   "name": "python3"
  },
  "language_info": {
   "name": "python",
   "version": "2.7.18"
  },
  "orig_nbformat": 4
 },
 "nbformat": 4,
 "nbformat_minor": 2
}
